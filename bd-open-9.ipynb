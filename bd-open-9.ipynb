{
 "cells": [
  {
   "cell_type": "code",
   "execution_count": null,
   "metadata": {},
   "outputs": [],
   "source": [
    "# Import necessary libraries\n",
    "from textblob import TextBlob\n",
    "import matplotlib.pyplot as plt\n",
    "\n",
    "# Sample social media posts (replace this with your data source)\n",
    "social_media_posts = [\n",
    "    \"I love Python programming! It's so much fun!\",\n",
    "    \"Feeling sad today because it's raining.\",\n",
    "    \"Just watched a great movie. Feeling happy!\",\n",
    "    # Add more social media posts here\n",
    "]\n",
    "\n",
    "# Function to analyze sentiment using TextBlob\n",
    "def analyze_sentiment(text):\n",
    "    analysis = TextBlob(text)\n",
    "    return analysis.sentiment.polarity\n",
    "\n",
    "# Analyze sentiments of social media posts\n",
    "sentiments = [analyze_sentiment(post) for post in social_media_posts]\n",
    "\n",
    "# Count positive, negative, and neutral sentiments\n",
    "positive_count = sum(1 for sentiment in sentiments if sentiment > 0)\n",
    "negative_count = sum(1 for sentiment in sentiments if sentiment < 0)\n",
    "neutral_count = sum(1 for sentiment in sentiments if sentiment == 0)\n",
    "\n",
    "# Visualization\n",
    "labels = 'Positive', 'Negative', 'Neutral'\n",
    "sizes = [positive_count, negative_count, neutral_count]\n",
    "colors = ['gold', 'lightcoral', 'lightskyblue']\n",
    "explode = (0.1, 0, 0)  # explode the 1st slice (i.e., 'Positive')\n",
    "\n",
    "plt.pie(sizes, explode=explode, labels=labels, colors=colors,\n",
    "autopct='%1.1f%%', shadow=True, startangle=140)\n",
    "\n",
    "plt.axis('equal')\n",
    "plt.title('Sentiment Analysis of Social Media Posts')\n",
    "plt.show()\n"
   ]
  },
  {
   "cell_type": "code",
   "execution_count": null,
   "metadata": {},
   "outputs": [],
   "source": [
    "# Import necessary libraries\n",
    "from textblob import TextBlob\n",
    "import matplotlib.pyplot as plt"
   ]
  },
  {
   "cell_type": "code",
   "execution_count": null,
   "metadata": {},
   "outputs": [],
   "source": [
    "pip install textBlob"
   ]
  }
 ],
 "metadata": {
  "kernelspec": {
   "display_name": "base",
   "language": "python",
   "name": "python3"
  },
  "language_info": {
   "name": "python",
   "version": "3.11.5"
  },
  "orig_nbformat": 4
 },
 "nbformat": 4,
 "nbformat_minor": 2
}
